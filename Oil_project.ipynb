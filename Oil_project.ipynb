{
 "cells": [
  {
   "cell_type": "markdown",
   "metadata": {},
   "source": [
    "# Выбор локации для скважины"
   ]
  },
  {
   "cell_type": "markdown",
   "metadata": {},
   "source": [
    "Вы работаете в добывающей компании «ГлавРосГосНефть». Вам предоставлены пробы нефти в трёх регионах: в каждом 10 000 месторождений, где измерили качество нефти и объём её запасов."
   ]
  },
  {
   "cell_type": "markdown",
   "metadata": {},
   "source": [
    "<b><u>Цель:</u></b> Нужно решить, где бурить новую скважину."
   ]
  },
  {
   "cell_type": "markdown",
   "metadata": {},
   "source": [
    "<b><u>Задача:</u></b>\n",
    "1. Постройте модель машинного обучения, которая поможет определить регион, где добыча принесёт наибольшую прибыль.\n",
    "2. Проанализируйте возможную прибыль и риски техникой *Bootstrap.*"
   ]
  },
  {
   "cell_type": "markdown",
   "metadata": {},
   "source": [
    " <b><u>Шаги для выбора локации:</u></b>\n",
    "\n",
    "- В избранном регионе ищут месторождения, для каждого определяют значения признаков;\n",
    "- Строят модель и оценивают объём запасов;\n",
    "- Выбирают месторождения с самым высокими оценками значений. Количество месторождений зависит от бюджета компании и стоимости разработки одной скважины;\n",
    "- Прибыль равна суммарной прибыли отобранных месторождений."
   ]
  },
  {
   "cell_type": "code",
   "execution_count": 1,
   "metadata": {},
   "outputs": [],
   "source": [
    "# !pip install python-pip -U -q\n",
    "# !pip install numba==0.59.1 -q\n",
    "# !pip install numpy==1.23.1 -q\n",
    "# !pip install scipy -U -q\n",
    "\n",
    "\n",
    "# !pip install matplotlib -U -q\n",
    "# !pip install seaborn -U -q\n",
    "# !pip install phik -U -q\n",
    "# !pip install shap -U -q\n",
    "\n",
    "# !pip install pandas==2.2.2 -q\n",
    "# !pip install jinja2==3.1.2 -q\n",
    "# !pip install scikit-learn==1.4 -q"
   ]
  },
  {
   "cell_type": "markdown",
   "metadata": {},
   "source": [
    "## Загрузка и подготовка данных"
   ]
  },
  {
   "cell_type": "code",
   "execution_count": 2,
   "metadata": {},
   "outputs": [],
   "source": [
    "import os\n",
    "import pandas as pd\n",
    "import numpy as np\n",
    "import seaborn as sns\n",
    "import matplotlib.pyplot as plt\n",
    "\n",
    "from numpy.random import RandomState\n",
    "\n",
    "from sklearn.model_selection import train_test_split, cross_val_score, cross_val_predict\n",
    "from sklearn.preprocessing import MinMaxScaler\n",
    "from sklearn.linear_model import LinearRegression\n",
    "from sklearn.metrics import root_mean_squared_error\n",
    "\n",
    "from sklearn.pipeline import Pipeline\n",
    "\n",
    "state = RandomState(12345)"
   ]
  },
  {
   "cell_type": "code",
   "execution_count": 3,
   "metadata": {},
   "outputs": [],
   "source": [
    "project_path_01 = \"C:\\\\Users\\\\kushn\\\\Documents\\\\Python_trainings\\\\Yandex_DS\\\\Oil_project\\\\\"\n",
    "project_path_02 = \"/datasets/\""
   ]
  },
  {
   "cell_type": "code",
   "execution_count": 4,
   "metadata": {},
   "outputs": [],
   "source": [
    "if os.path.exists(project_path_01):\n",
    "    data_01 = pd.read_csv(project_path_01 + 'geo_data_0.csv')\n",
    "    data_02 = pd.read_csv(project_path_01 + 'geo_data_1.csv')\n",
    "    data_03 = pd.read_csv(project_path_01 + 'geo_data_2.csv')\n",
    "elif os.path.exists(project_path_02):\n",
    "    data_01 = pd.read_csv(project_path_02 + 'geo_data_0.csv')\n",
    "    data_02 = pd.read_csv(project_path_02 + 'geo_data_1.csv')\n",
    "    data_03 = pd.read_csv(project_path_02 + 'geo_data_2.csv')    \n",
    "else:\n",
    "    print(\"Smth wrong\")"
   ]
  },
  {
   "cell_type": "code",
   "execution_count": 5,
   "metadata": {},
   "outputs": [],
   "source": [
    "def df_info (df):\n",
    "        print(df.info())\n",
    "        return df.head()"
   ]
  },
  {
   "cell_type": "code",
   "execution_count": 6,
   "metadata": {},
   "outputs": [
    {
     "name": "stdout",
     "output_type": "stream",
     "text": [
      "<class 'pandas.core.frame.DataFrame'>\n",
      "RangeIndex: 100000 entries, 0 to 99999\n",
      "Data columns (total 5 columns):\n",
      " #   Column   Non-Null Count   Dtype  \n",
      "---  ------   --------------   -----  \n",
      " 0   id       100000 non-null  object \n",
      " 1   f0       100000 non-null  float64\n",
      " 2   f1       100000 non-null  float64\n",
      " 3   f2       100000 non-null  float64\n",
      " 4   product  100000 non-null  float64\n",
      "dtypes: float64(4), object(1)\n",
      "memory usage: 3.8+ MB\n",
      "None\n"
     ]
    },
    {
     "data": {
      "text/html": [
       "<div>\n",
       "<style scoped>\n",
       "    .dataframe tbody tr th:only-of-type {\n",
       "        vertical-align: middle;\n",
       "    }\n",
       "\n",
       "    .dataframe tbody tr th {\n",
       "        vertical-align: top;\n",
       "    }\n",
       "\n",
       "    .dataframe thead th {\n",
       "        text-align: right;\n",
       "    }\n",
       "</style>\n",
       "<table border=\"1\" class=\"dataframe\">\n",
       "  <thead>\n",
       "    <tr style=\"text-align: right;\">\n",
       "      <th></th>\n",
       "      <th>id</th>\n",
       "      <th>f0</th>\n",
       "      <th>f1</th>\n",
       "      <th>f2</th>\n",
       "      <th>product</th>\n",
       "    </tr>\n",
       "  </thead>\n",
       "  <tbody>\n",
       "    <tr>\n",
       "      <th>0</th>\n",
       "      <td>txEyH</td>\n",
       "      <td>0.705745</td>\n",
       "      <td>-0.497823</td>\n",
       "      <td>1.221170</td>\n",
       "      <td>105.280062</td>\n",
       "    </tr>\n",
       "    <tr>\n",
       "      <th>1</th>\n",
       "      <td>2acmU</td>\n",
       "      <td>1.334711</td>\n",
       "      <td>-0.340164</td>\n",
       "      <td>4.365080</td>\n",
       "      <td>73.037750</td>\n",
       "    </tr>\n",
       "    <tr>\n",
       "      <th>2</th>\n",
       "      <td>409Wp</td>\n",
       "      <td>1.022732</td>\n",
       "      <td>0.151990</td>\n",
       "      <td>1.419926</td>\n",
       "      <td>85.265647</td>\n",
       "    </tr>\n",
       "    <tr>\n",
       "      <th>3</th>\n",
       "      <td>iJLyR</td>\n",
       "      <td>-0.032172</td>\n",
       "      <td>0.139033</td>\n",
       "      <td>2.978566</td>\n",
       "      <td>168.620776</td>\n",
       "    </tr>\n",
       "    <tr>\n",
       "      <th>4</th>\n",
       "      <td>Xdl7t</td>\n",
       "      <td>1.988431</td>\n",
       "      <td>0.155413</td>\n",
       "      <td>4.751769</td>\n",
       "      <td>154.036647</td>\n",
       "    </tr>\n",
       "  </tbody>\n",
       "</table>\n",
       "</div>"
      ],
      "text/plain": [
       "      id        f0        f1        f2     product\n",
       "0  txEyH  0.705745 -0.497823  1.221170  105.280062\n",
       "1  2acmU  1.334711 -0.340164  4.365080   73.037750\n",
       "2  409Wp  1.022732  0.151990  1.419926   85.265647\n",
       "3  iJLyR -0.032172  0.139033  2.978566  168.620776\n",
       "4  Xdl7t  1.988431  0.155413  4.751769  154.036647"
      ]
     },
     "execution_count": 6,
     "metadata": {},
     "output_type": "execute_result"
    }
   ],
   "source": [
    "df_info(data_01)"
   ]
  },
  {
   "cell_type": "code",
   "execution_count": 7,
   "metadata": {},
   "outputs": [
    {
     "name": "stdout",
     "output_type": "stream",
     "text": [
      "<class 'pandas.core.frame.DataFrame'>\n",
      "RangeIndex: 100000 entries, 0 to 99999\n",
      "Data columns (total 5 columns):\n",
      " #   Column   Non-Null Count   Dtype  \n",
      "---  ------   --------------   -----  \n",
      " 0   id       100000 non-null  object \n",
      " 1   f0       100000 non-null  float64\n",
      " 2   f1       100000 non-null  float64\n",
      " 3   f2       100000 non-null  float64\n",
      " 4   product  100000 non-null  float64\n",
      "dtypes: float64(4), object(1)\n",
      "memory usage: 3.8+ MB\n",
      "None\n"
     ]
    },
    {
     "data": {
      "text/html": [
       "<div>\n",
       "<style scoped>\n",
       "    .dataframe tbody tr th:only-of-type {\n",
       "        vertical-align: middle;\n",
       "    }\n",
       "\n",
       "    .dataframe tbody tr th {\n",
       "        vertical-align: top;\n",
       "    }\n",
       "\n",
       "    .dataframe thead th {\n",
       "        text-align: right;\n",
       "    }\n",
       "</style>\n",
       "<table border=\"1\" class=\"dataframe\">\n",
       "  <thead>\n",
       "    <tr style=\"text-align: right;\">\n",
       "      <th></th>\n",
       "      <th>id</th>\n",
       "      <th>f0</th>\n",
       "      <th>f1</th>\n",
       "      <th>f2</th>\n",
       "      <th>product</th>\n",
       "    </tr>\n",
       "  </thead>\n",
       "  <tbody>\n",
       "    <tr>\n",
       "      <th>0</th>\n",
       "      <td>kBEdx</td>\n",
       "      <td>-15.001348</td>\n",
       "      <td>-8.276000</td>\n",
       "      <td>-0.005876</td>\n",
       "      <td>3.179103</td>\n",
       "    </tr>\n",
       "    <tr>\n",
       "      <th>1</th>\n",
       "      <td>62mP7</td>\n",
       "      <td>14.272088</td>\n",
       "      <td>-3.475083</td>\n",
       "      <td>0.999183</td>\n",
       "      <td>26.953261</td>\n",
       "    </tr>\n",
       "    <tr>\n",
       "      <th>2</th>\n",
       "      <td>vyE1P</td>\n",
       "      <td>6.263187</td>\n",
       "      <td>-5.948386</td>\n",
       "      <td>5.001160</td>\n",
       "      <td>134.766305</td>\n",
       "    </tr>\n",
       "    <tr>\n",
       "      <th>3</th>\n",
       "      <td>KcrkZ</td>\n",
       "      <td>-13.081196</td>\n",
       "      <td>-11.506057</td>\n",
       "      <td>4.999415</td>\n",
       "      <td>137.945408</td>\n",
       "    </tr>\n",
       "    <tr>\n",
       "      <th>4</th>\n",
       "      <td>AHL4O</td>\n",
       "      <td>12.702195</td>\n",
       "      <td>-8.147433</td>\n",
       "      <td>5.004363</td>\n",
       "      <td>134.766305</td>\n",
       "    </tr>\n",
       "  </tbody>\n",
       "</table>\n",
       "</div>"
      ],
      "text/plain": [
       "      id         f0         f1        f2     product\n",
       "0  kBEdx -15.001348  -8.276000 -0.005876    3.179103\n",
       "1  62mP7  14.272088  -3.475083  0.999183   26.953261\n",
       "2  vyE1P   6.263187  -5.948386  5.001160  134.766305\n",
       "3  KcrkZ -13.081196 -11.506057  4.999415  137.945408\n",
       "4  AHL4O  12.702195  -8.147433  5.004363  134.766305"
      ]
     },
     "execution_count": 7,
     "metadata": {},
     "output_type": "execute_result"
    }
   ],
   "source": [
    "df_info(data_02)"
   ]
  },
  {
   "cell_type": "code",
   "execution_count": 8,
   "metadata": {},
   "outputs": [
    {
     "name": "stdout",
     "output_type": "stream",
     "text": [
      "<class 'pandas.core.frame.DataFrame'>\n",
      "RangeIndex: 100000 entries, 0 to 99999\n",
      "Data columns (total 5 columns):\n",
      " #   Column   Non-Null Count   Dtype  \n",
      "---  ------   --------------   -----  \n",
      " 0   id       100000 non-null  object \n",
      " 1   f0       100000 non-null  float64\n",
      " 2   f1       100000 non-null  float64\n",
      " 3   f2       100000 non-null  float64\n",
      " 4   product  100000 non-null  float64\n",
      "dtypes: float64(4), object(1)\n",
      "memory usage: 3.8+ MB\n",
      "None\n"
     ]
    },
    {
     "data": {
      "text/html": [
       "<div>\n",
       "<style scoped>\n",
       "    .dataframe tbody tr th:only-of-type {\n",
       "        vertical-align: middle;\n",
       "    }\n",
       "\n",
       "    .dataframe tbody tr th {\n",
       "        vertical-align: top;\n",
       "    }\n",
       "\n",
       "    .dataframe thead th {\n",
       "        text-align: right;\n",
       "    }\n",
       "</style>\n",
       "<table border=\"1\" class=\"dataframe\">\n",
       "  <thead>\n",
       "    <tr style=\"text-align: right;\">\n",
       "      <th></th>\n",
       "      <th>id</th>\n",
       "      <th>f0</th>\n",
       "      <th>f1</th>\n",
       "      <th>f2</th>\n",
       "      <th>product</th>\n",
       "    </tr>\n",
       "  </thead>\n",
       "  <tbody>\n",
       "    <tr>\n",
       "      <th>0</th>\n",
       "      <td>fwXo0</td>\n",
       "      <td>-1.146987</td>\n",
       "      <td>0.963328</td>\n",
       "      <td>-0.828965</td>\n",
       "      <td>27.758673</td>\n",
       "    </tr>\n",
       "    <tr>\n",
       "      <th>1</th>\n",
       "      <td>WJtFt</td>\n",
       "      <td>0.262778</td>\n",
       "      <td>0.269839</td>\n",
       "      <td>-2.530187</td>\n",
       "      <td>56.069697</td>\n",
       "    </tr>\n",
       "    <tr>\n",
       "      <th>2</th>\n",
       "      <td>ovLUW</td>\n",
       "      <td>0.194587</td>\n",
       "      <td>0.289035</td>\n",
       "      <td>-5.586433</td>\n",
       "      <td>62.871910</td>\n",
       "    </tr>\n",
       "    <tr>\n",
       "      <th>3</th>\n",
       "      <td>q6cA6</td>\n",
       "      <td>2.236060</td>\n",
       "      <td>-0.553760</td>\n",
       "      <td>0.930038</td>\n",
       "      <td>114.572842</td>\n",
       "    </tr>\n",
       "    <tr>\n",
       "      <th>4</th>\n",
       "      <td>WPMUX</td>\n",
       "      <td>-0.515993</td>\n",
       "      <td>1.716266</td>\n",
       "      <td>5.899011</td>\n",
       "      <td>149.600746</td>\n",
       "    </tr>\n",
       "  </tbody>\n",
       "</table>\n",
       "</div>"
      ],
      "text/plain": [
       "      id        f0        f1        f2     product\n",
       "0  fwXo0 -1.146987  0.963328 -0.828965   27.758673\n",
       "1  WJtFt  0.262778  0.269839 -2.530187   56.069697\n",
       "2  ovLUW  0.194587  0.289035 -5.586433   62.871910\n",
       "3  q6cA6  2.236060 -0.553760  0.930038  114.572842\n",
       "4  WPMUX -0.515993  1.716266  5.899011  149.600746"
      ]
     },
     "execution_count": 8,
     "metadata": {},
     "output_type": "execute_result"
    }
   ],
   "source": [
    "df_info(data_03)"
   ]
  },
  {
   "cell_type": "markdown",
   "metadata": {},
   "source": [
    "### Предобработка"
   ]
  },
  {
   "cell_type": "markdown",
   "metadata": {},
   "source": [
    "оценим\n",
    "- полные дубли\n",
    "- пропуски\n",
    "- 0 данные"
   ]
  },
  {
   "cell_type": "code",
   "execution_count": 9,
   "metadata": {},
   "outputs": [],
   "source": [
    "def output_info(df):\n",
    "    output = []\n",
    "    for col in df.columns:\n",
    "        nul = df[col].isna().sum()\n",
    "        non_nul = len(df) - nul\n",
    "        n_uniq = df[col].nunique()\n",
    "        col_type = str(df[col].dtype)\n",
    "        output.append([col, nul, non_nul, n_uniq, col_type])\n",
    "    output = pd.DataFrame(output)\n",
    "    output.columns = [\n",
    "        'col_names', 'non-null_values','null_values', 'unique_amount', 'dtype']\n",
    "    return output"
   ]
  },
  {
   "cell_type": "markdown",
   "metadata": {},
   "source": [
    "#### data_01"
   ]
  },
  {
   "cell_type": "code",
   "execution_count": 10,
   "metadata": {},
   "outputs": [
    {
     "data": {
      "text/plain": [
       "0"
      ]
     },
     "execution_count": 10,
     "metadata": {},
     "output_type": "execute_result"
    }
   ],
   "source": [
    "data_01.duplicated().sum()"
   ]
  },
  {
   "cell_type": "code",
   "execution_count": 11,
   "metadata": {},
   "outputs": [
    {
     "data": {
      "text/html": [
       "<div>\n",
       "<style scoped>\n",
       "    .dataframe tbody tr th:only-of-type {\n",
       "        vertical-align: middle;\n",
       "    }\n",
       "\n",
       "    .dataframe tbody tr th {\n",
       "        vertical-align: top;\n",
       "    }\n",
       "\n",
       "    .dataframe thead th {\n",
       "        text-align: right;\n",
       "    }\n",
       "</style>\n",
       "<table border=\"1\" class=\"dataframe\">\n",
       "  <thead>\n",
       "    <tr style=\"text-align: right;\">\n",
       "      <th></th>\n",
       "      <th>col_names</th>\n",
       "      <th>non-null_values</th>\n",
       "      <th>null_values</th>\n",
       "      <th>unique_amount</th>\n",
       "      <th>dtype</th>\n",
       "    </tr>\n",
       "  </thead>\n",
       "  <tbody>\n",
       "    <tr>\n",
       "      <th>0</th>\n",
       "      <td>id</td>\n",
       "      <td>0</td>\n",
       "      <td>100000</td>\n",
       "      <td>99990</td>\n",
       "      <td>object</td>\n",
       "    </tr>\n",
       "    <tr>\n",
       "      <th>1</th>\n",
       "      <td>f0</td>\n",
       "      <td>0</td>\n",
       "      <td>100000</td>\n",
       "      <td>100000</td>\n",
       "      <td>float64</td>\n",
       "    </tr>\n",
       "    <tr>\n",
       "      <th>2</th>\n",
       "      <td>f1</td>\n",
       "      <td>0</td>\n",
       "      <td>100000</td>\n",
       "      <td>100000</td>\n",
       "      <td>float64</td>\n",
       "    </tr>\n",
       "    <tr>\n",
       "      <th>3</th>\n",
       "      <td>f2</td>\n",
       "      <td>0</td>\n",
       "      <td>100000</td>\n",
       "      <td>100000</td>\n",
       "      <td>float64</td>\n",
       "    </tr>\n",
       "    <tr>\n",
       "      <th>4</th>\n",
       "      <td>product</td>\n",
       "      <td>0</td>\n",
       "      <td>100000</td>\n",
       "      <td>100000</td>\n",
       "      <td>float64</td>\n",
       "    </tr>\n",
       "  </tbody>\n",
       "</table>\n",
       "</div>"
      ],
      "text/plain": [
       "  col_names  non-null_values  null_values  unique_amount    dtype\n",
       "0        id                0       100000          99990   object\n",
       "1        f0                0       100000         100000  float64\n",
       "2        f1                0       100000         100000  float64\n",
       "3        f2                0       100000         100000  float64\n",
       "4   product                0       100000         100000  float64"
      ]
     },
     "execution_count": 11,
     "metadata": {},
     "output_type": "execute_result"
    }
   ],
   "source": [
    "output_info(data_01)"
   ]
  },
  {
   "cell_type": "markdown",
   "metadata": {},
   "source": [
    "удалим дубли по 'id'"
   ]
  },
  {
   "cell_type": "code",
   "execution_count": 12,
   "metadata": {},
   "outputs": [
    {
     "data": {
      "text/plain": [
       "(99990, 5)"
      ]
     },
     "execution_count": 12,
     "metadata": {},
     "output_type": "execute_result"
    }
   ],
   "source": [
    "data_01.drop_duplicates(subset=['id'], keep='first', inplace=True)\n",
    "data_01.shape"
   ]
  },
  {
   "cell_type": "code",
   "execution_count": 13,
   "metadata": {},
   "outputs": [
    {
     "data": {
      "text/plain": [
       "1"
      ]
     },
     "execution_count": 13,
     "metadata": {},
     "output_type": "execute_result"
    }
   ],
   "source": [
    "data_01.eq(0).any(axis=1).sum()"
   ]
  },
  {
   "cell_type": "markdown",
   "metadata": {},
   "source": [
    "данные с 0 запасом удаляеми"
   ]
  },
  {
   "cell_type": "code",
   "execution_count": 14,
   "metadata": {},
   "outputs": [],
   "source": [
    "# data_01.drop(data_01[data_01.eq(0).any(axis=1)].index, inplace=True)\n",
    "# data_01.shape"
   ]
  },
  {
   "cell_type": "code",
   "execution_count": 15,
   "metadata": {},
   "outputs": [
    {
     "data": {
      "text/plain": [
       "(99990, 4)"
      ]
     },
     "execution_count": 15,
     "metadata": {},
     "output_type": "execute_result"
    }
   ],
   "source": [
    "data_01.set_index('id', inplace=True)\n",
    "data_01.shape"
   ]
  },
  {
   "cell_type": "markdown",
   "metadata": {},
   "source": [
    "#### data_02"
   ]
  },
  {
   "cell_type": "code",
   "execution_count": 16,
   "metadata": {},
   "outputs": [
    {
     "data": {
      "text/plain": [
       "0"
      ]
     },
     "execution_count": 16,
     "metadata": {},
     "output_type": "execute_result"
    }
   ],
   "source": [
    "data_02.duplicated().sum()"
   ]
  },
  {
   "cell_type": "code",
   "execution_count": 17,
   "metadata": {},
   "outputs": [
    {
     "data": {
      "text/html": [
       "<div>\n",
       "<style scoped>\n",
       "    .dataframe tbody tr th:only-of-type {\n",
       "        vertical-align: middle;\n",
       "    }\n",
       "\n",
       "    .dataframe tbody tr th {\n",
       "        vertical-align: top;\n",
       "    }\n",
       "\n",
       "    .dataframe thead th {\n",
       "        text-align: right;\n",
       "    }\n",
       "</style>\n",
       "<table border=\"1\" class=\"dataframe\">\n",
       "  <thead>\n",
       "    <tr style=\"text-align: right;\">\n",
       "      <th></th>\n",
       "      <th>col_names</th>\n",
       "      <th>non-null_values</th>\n",
       "      <th>null_values</th>\n",
       "      <th>unique_amount</th>\n",
       "      <th>dtype</th>\n",
       "    </tr>\n",
       "  </thead>\n",
       "  <tbody>\n",
       "    <tr>\n",
       "      <th>0</th>\n",
       "      <td>id</td>\n",
       "      <td>0</td>\n",
       "      <td>100000</td>\n",
       "      <td>99996</td>\n",
       "      <td>object</td>\n",
       "    </tr>\n",
       "    <tr>\n",
       "      <th>1</th>\n",
       "      <td>f0</td>\n",
       "      <td>0</td>\n",
       "      <td>100000</td>\n",
       "      <td>100000</td>\n",
       "      <td>float64</td>\n",
       "    </tr>\n",
       "    <tr>\n",
       "      <th>2</th>\n",
       "      <td>f1</td>\n",
       "      <td>0</td>\n",
       "      <td>100000</td>\n",
       "      <td>100000</td>\n",
       "      <td>float64</td>\n",
       "    </tr>\n",
       "    <tr>\n",
       "      <th>3</th>\n",
       "      <td>f2</td>\n",
       "      <td>0</td>\n",
       "      <td>100000</td>\n",
       "      <td>100000</td>\n",
       "      <td>float64</td>\n",
       "    </tr>\n",
       "    <tr>\n",
       "      <th>4</th>\n",
       "      <td>product</td>\n",
       "      <td>0</td>\n",
       "      <td>100000</td>\n",
       "      <td>12</td>\n",
       "      <td>float64</td>\n",
       "    </tr>\n",
       "  </tbody>\n",
       "</table>\n",
       "</div>"
      ],
      "text/plain": [
       "  col_names  non-null_values  null_values  unique_amount    dtype\n",
       "0        id                0       100000          99996   object\n",
       "1        f0                0       100000         100000  float64\n",
       "2        f1                0       100000         100000  float64\n",
       "3        f2                0       100000         100000  float64\n",
       "4   product                0       100000             12  float64"
      ]
     },
     "execution_count": 17,
     "metadata": {},
     "output_type": "execute_result"
    }
   ],
   "source": [
    "output_info(data_02)"
   ]
  },
  {
   "cell_type": "code",
   "execution_count": 18,
   "metadata": {},
   "outputs": [
    {
     "data": {
      "text/plain": [
       "(99996, 5)"
      ]
     },
     "execution_count": 18,
     "metadata": {},
     "output_type": "execute_result"
    }
   ],
   "source": [
    "data_02.drop_duplicates(subset=['id'], keep='first', inplace=True)\n",
    "data_02.shape"
   ]
  },
  {
   "cell_type": "markdown",
   "metadata": {},
   "source": [
    "оценим 12 уникальных значений столбца product"
   ]
  },
  {
   "cell_type": "code",
   "execution_count": 19,
   "metadata": {},
   "outputs": [
    {
     "data": {
      "text/plain": [
       "product\n",
       "53.906522     8472\n",
       "26.953261     8468\n",
       "84.038886     8430\n",
       "57.085625     8389\n",
       "3.179103      8337\n",
       "80.859783     8320\n",
       "30.132364     8306\n",
       "134.766305    8303\n",
       "110.992147    8303\n",
       "0.000000      8235\n",
       "137.945408    8233\n",
       "107.813044    8200\n",
       "Name: count, dtype: int64"
      ]
     },
     "execution_count": 19,
     "metadata": {},
     "output_type": "execute_result"
    }
   ],
   "source": [
    "data_02['product'].value_counts()[data_02['product'].value_counts() > 1]"
   ]
  },
  {
   "cell_type": "code",
   "execution_count": 20,
   "metadata": {},
   "outputs": [
    {
     "data": {
      "text/plain": [
       "'8%'"
      ]
     },
     "execution_count": 20,
     "metadata": {},
     "output_type": "execute_result"
    }
   ],
   "source": [
    "f\"{data_02['product'].eq(0).sum()/len(data_02):.0%}\""
   ]
  },
  {
   "cell_type": "markdown",
   "metadata": {},
   "source": [
    "Придется пожертвовать 8% данных, т.к. заполнение нулевых значений средним или модой приведет к серьезным искажениям данных"
   ]
  },
  {
   "cell_type": "code",
   "execution_count": 21,
   "metadata": {},
   "outputs": [],
   "source": [
    "# data_02.drop(data_02[data_02.eq(0).any(axis=1)].index, inplace=True)\n",
    "# data_02.shape"
   ]
  },
  {
   "cell_type": "code",
   "execution_count": 22,
   "metadata": {},
   "outputs": [
    {
     "data": {
      "text/plain": [
       "(99996, 4)"
      ]
     },
     "execution_count": 22,
     "metadata": {},
     "output_type": "execute_result"
    }
   ],
   "source": [
    "data_02.set_index('id', inplace=True)\n",
    "data_02.shape"
   ]
  },
  {
   "cell_type": "markdown",
   "metadata": {},
   "source": [
    "#### data_03"
   ]
  },
  {
   "cell_type": "code",
   "execution_count": 23,
   "metadata": {},
   "outputs": [
    {
     "data": {
      "text/plain": [
       "0"
      ]
     },
     "execution_count": 23,
     "metadata": {},
     "output_type": "execute_result"
    }
   ],
   "source": [
    "data_03.duplicated().sum()"
   ]
  },
  {
   "cell_type": "code",
   "execution_count": 24,
   "metadata": {},
   "outputs": [
    {
     "data": {
      "text/html": [
       "<div>\n",
       "<style scoped>\n",
       "    .dataframe tbody tr th:only-of-type {\n",
       "        vertical-align: middle;\n",
       "    }\n",
       "\n",
       "    .dataframe tbody tr th {\n",
       "        vertical-align: top;\n",
       "    }\n",
       "\n",
       "    .dataframe thead th {\n",
       "        text-align: right;\n",
       "    }\n",
       "</style>\n",
       "<table border=\"1\" class=\"dataframe\">\n",
       "  <thead>\n",
       "    <tr style=\"text-align: right;\">\n",
       "      <th></th>\n",
       "      <th>col_names</th>\n",
       "      <th>non-null_values</th>\n",
       "      <th>null_values</th>\n",
       "      <th>unique_amount</th>\n",
       "      <th>dtype</th>\n",
       "    </tr>\n",
       "  </thead>\n",
       "  <tbody>\n",
       "    <tr>\n",
       "      <th>0</th>\n",
       "      <td>id</td>\n",
       "      <td>0</td>\n",
       "      <td>100000</td>\n",
       "      <td>99996</td>\n",
       "      <td>object</td>\n",
       "    </tr>\n",
       "    <tr>\n",
       "      <th>1</th>\n",
       "      <td>f0</td>\n",
       "      <td>0</td>\n",
       "      <td>100000</td>\n",
       "      <td>100000</td>\n",
       "      <td>float64</td>\n",
       "    </tr>\n",
       "    <tr>\n",
       "      <th>2</th>\n",
       "      <td>f1</td>\n",
       "      <td>0</td>\n",
       "      <td>100000</td>\n",
       "      <td>100000</td>\n",
       "      <td>float64</td>\n",
       "    </tr>\n",
       "    <tr>\n",
       "      <th>3</th>\n",
       "      <td>f2</td>\n",
       "      <td>0</td>\n",
       "      <td>100000</td>\n",
       "      <td>100000</td>\n",
       "      <td>float64</td>\n",
       "    </tr>\n",
       "    <tr>\n",
       "      <th>4</th>\n",
       "      <td>product</td>\n",
       "      <td>0</td>\n",
       "      <td>100000</td>\n",
       "      <td>100000</td>\n",
       "      <td>float64</td>\n",
       "    </tr>\n",
       "  </tbody>\n",
       "</table>\n",
       "</div>"
      ],
      "text/plain": [
       "  col_names  non-null_values  null_values  unique_amount    dtype\n",
       "0        id                0       100000          99996   object\n",
       "1        f0                0       100000         100000  float64\n",
       "2        f1                0       100000         100000  float64\n",
       "3        f2                0       100000         100000  float64\n",
       "4   product                0       100000         100000  float64"
      ]
     },
     "execution_count": 24,
     "metadata": {},
     "output_type": "execute_result"
    }
   ],
   "source": [
    "output_info(data_03)"
   ]
  },
  {
   "cell_type": "code",
   "execution_count": 25,
   "metadata": {},
   "outputs": [
    {
     "data": {
      "text/plain": [
       "(99996, 5)"
      ]
     },
     "execution_count": 25,
     "metadata": {},
     "output_type": "execute_result"
    }
   ],
   "source": [
    "data_03.drop_duplicates(subset=['id'], keep='first', inplace=True)\n",
    "data_03.shape"
   ]
  },
  {
   "cell_type": "code",
   "execution_count": 26,
   "metadata": {},
   "outputs": [
    {
     "data": {
      "text/plain": [
       "1"
      ]
     },
     "execution_count": 26,
     "metadata": {},
     "output_type": "execute_result"
    }
   ],
   "source": [
    "data_03.eq(0).any(axis=1).sum()"
   ]
  },
  {
   "cell_type": "markdown",
   "metadata": {},
   "source": [
    "Удаляем 0 значение"
   ]
  },
  {
   "cell_type": "code",
   "execution_count": 27,
   "metadata": {},
   "outputs": [],
   "source": [
    "# data_03.drop(data_03[data_03.eq(0).any(axis=1)].index, inplace=True)\n",
    "# data_03.shape"
   ]
  },
  {
   "cell_type": "code",
   "execution_count": 28,
   "metadata": {},
   "outputs": [
    {
     "data": {
      "text/plain": [
       "(99996, 4)"
      ]
     },
     "execution_count": 28,
     "metadata": {},
     "output_type": "execute_result"
    }
   ],
   "source": [
    "data_03.set_index('id', inplace=True)\n",
    "data_03.shape"
   ]
  },
  {
   "cell_type": "markdown",
   "metadata": {},
   "source": [
    "### Выводы загрузка и предобработка"
   ]
  },
  {
   "cell_type": "markdown",
   "metadata": {},
   "source": [
    "1.\tПолучено три файла\n",
    "    - geo_data_0.csv\n",
    "    - geo_data_1.csv\n",
    "    - geo_data_2.csv \n",
    "2.  Признаки\n",
    "    -\tid — уникальный идентификатор скважины;\n",
    "    -\tf0, f1, f2 — три признака точек;\n",
    "    -\tproduct — объём запасов в скважине (тыс. баррелей), целевой признак.\n",
    "3. Файлы прочитаны в 3 датасета с установление столбца 'id' в качестве индекса:\n",
    "    - data_01\n",
    "    - data_02\n",
    "    - data_03\n",
    "4. data_01\n",
    "    - размерность (100_000, 5)\n",
    "    - все данные float\n",
    "    - нет полных дублей\n",
    "    - удалены дубли по столбцу 'id'\n",
    "    - удалена одна строка с 0 данными в столбце 'product'\n",
    "    - установим 'id' в качестве индекса\n",
    "    - новая размерность (99_989, 4)\n",
    "5. data_02\n",
    "    - размерность (100_000, 5)\n",
    "    - все данные float\n",
    "    - нет полных дублей\n",
    "    - удалены дубли по столбцу 'id'\n",
    "    - столбец 'product' содержит всего 12 уникальных значений\n",
    "    - 8235 значений (8%) столбца 'product' равны 0\n",
    "    - заполнить значения модой или средним не представляется возможным\n",
    "    - удалены 8235 значений с 0 данными в столбце 'product'\n",
    "    - установим 'id' в качестве индекса\n",
    "    - новая размерность (91_761, 4)\n",
    "6. data_03\n",
    "    - размерность (100_000, 5)\n",
    "    - все данные float\n",
    "    - нет полных дублей\n",
    "    - удалены дубли по столбцу 'id'\n",
    "    - удалена одна строка с 0 данными в столбце 'product'\n",
    "    - установим 'id' в качестве индекса\n",
    "    - новая размерность (99_994, 4)"
   ]
  },
  {
   "cell_type": "markdown",
   "metadata": {},
   "source": [
    "## Обучение и проверка модели"
   ]
  },
  {
   "cell_type": "markdown",
   "metadata": {},
   "source": [
    "- разделим данные на обучающую и валидационную выборки в соотношении 75:25\n",
    "- обучим модель и сделаем предсказания на валидационной выборке\n",
    "- оценка RMSE"
   ]
  },
  {
   "cell_type": "code",
   "execution_count": 29,
   "metadata": {},
   "outputs": [],
   "source": [
    "def cv_func (df, target, label):\n",
    "    X = df.drop(target, axis=1)\n",
    "    y = df[target]\n",
    "    X_train, X_valid, y_train, y_valid = train_test_split(\n",
    "        X, y,\n",
    "        test_size=0.25,\n",
    "        random_state=42\n",
    "    )\n",
    "    pipeline = Pipeline([\n",
    "        ('scaler', MinMaxScaler()),\n",
    "        ('model', LinearRegression())\n",
    "    ])\n",
    "    pipeline.fit(X_train, y_train)\n",
    "    predicts = pipeline.predict(X_valid)\n",
    "    scores = root_mean_squared_error(y_valid, predicts)\n",
    "    predicts = pd.DataFrame(predicts)\n",
    "    predicts.index = y_valid.index\n",
    "    predicts.columns = [label]\n",
    "    return scores, predicts, y_valid"
   ]
  },
  {
   "cell_type": "code",
   "execution_count": 30,
   "metadata": {},
   "outputs": [
    {
     "name": "stdout",
     "output_type": "stream",
     "text": [
      "RMSE предсказаний для 1го региона: 37.69\n",
      "Средний запас сырья для 1го региона: 92.61\n"
     ]
    }
   ],
   "source": [
    "preds_region_01 = cv_func(data_01, 'product', 'region_01')\n",
    "print(f'RMSE предсказаний для 1го региона: {preds_region_01[0]:.2f}')\n",
    "print(f'Средний запас сырья для 1го региона: {preds_region_01[1].values.mean():.2f}')\n"
   ]
  },
  {
   "cell_type": "code",
   "execution_count": 31,
   "metadata": {},
   "outputs": [
    {
     "name": "stdout",
     "output_type": "stream",
     "text": [
      "RMSE предсказаний для 2го региона: 0.89\n",
      "Средний запас сырья для 2го региона: 68.58\n"
     ]
    }
   ],
   "source": [
    "preds_region_02 = cv_func(data_02, 'product', 'region_02')\n",
    "print(f'RMSE предсказаний для 2го региона: {preds_region_02[0]:.2f}')\n",
    "print(f'Средний запас сырья для 2го региона: {preds_region_02[1].values.mean():.2f}')"
   ]
  },
  {
   "cell_type": "code",
   "execution_count": 32,
   "metadata": {},
   "outputs": [
    {
     "name": "stdout",
     "output_type": "stream",
     "text": [
      "RMSE предсказаний для 3го региона: 40.08\n",
      "Средний запас сырья для 3го региона: 94.93\n"
     ]
    }
   ],
   "source": [
    "preds_region_03 = cv_func(data_03, 'product', 'region_03')\n",
    "print(f'RMSE предсказаний для 3го региона: {preds_region_03[0]:.2f}')\n",
    "print(f'Средний запас сырья для 3го региона: {preds_region_03[1].values.mean():.2f}')"
   ]
  },
  {
   "cell_type": "markdown",
   "metadata": {},
   "source": [
    "### Выводы. Обучение и предсказание моделей на кросс-валидации"
   ]
  },
  {
   "cell_type": "markdown",
   "metadata": {},
   "source": [
    "1. подготовлена функция для предсказания объема запасов в регионе\n",
    "    - разбизвка на 3 валидационных блока\n",
    "    - модель Линейная регрессия\n",
    "    - метрика Корень из среднеквадратичной ошибки\n",
    "2. Результаты для 1-го региона\n",
    "    - запас сырья 92,75 тыс. бареллей\n",
    "    - RMSE: 37.66\n",
    "3. Результаты для 2-го региона\n",
    "    - запас сырья 75,08 тыс. бареллей\n",
    "    - RMSE: 0.88\n",
    "4. Результаты для 3-го региона\n",
    "    - запас сырья 94,92 тыс. бареллей\n",
    "    - RMSE: 40.11"
   ]
  },
  {
   "cell_type": "markdown",
   "metadata": {},
   "source": [
    "## Подготовка к расчёту прибыли"
   ]
  },
  {
   "cell_type": "markdown",
   "metadata": {},
   "source": [
    "- 1k баррелей = 450k рублей\n",
    "- 'product' х 450k = выручка со скважины\n",
    "- бюджет = себестоимость = 10_000_000k рублей\n",
    "- 200 скважин x product х 450k - бюджет = 0 (точка безубыточности) "
   ]
  },
  {
   "cell_type": "code",
   "execution_count": 33,
   "metadata": {},
   "outputs": [
    {
     "name": "stdout",
     "output_type": "stream",
     "text": [
      "Себестоимость работ в регионе = 22222\n",
      "Безуботчный запас на 1 шахту = 111\n"
     ]
    }
   ],
   "source": [
    "BUDGET = 10000000\n",
    "PRICE = 450\n",
    "WELL_CHOOSEN = 500\n",
    "WELL_AMOUNT = 200\n",
    "product_breakeven = BUDGET / (PRICE)\n",
    "prod_oil_per_well = BUDGET / (PRICE * WELL_AMOUNT)\n",
    "print(f'Себестоимость работ в регионе = {product_breakeven:.0f}')\n",
    "print(f'Безуботчный запас на 1 шахту = {prod_oil_per_well:.0f}')"
   ]
  },
  {
   "cell_type": "markdown",
   "metadata": {},
   "source": [
    "истинный средний запас в регионах"
   ]
  },
  {
   "cell_type": "code",
   "execution_count": 34,
   "metadata": {},
   "outputs": [
    {
     "data": {
      "text/html": [
       "<div>\n",
       "<style scoped>\n",
       "    .dataframe tbody tr th:only-of-type {\n",
       "        vertical-align: middle;\n",
       "    }\n",
       "\n",
       "    .dataframe tbody tr th {\n",
       "        vertical-align: top;\n",
       "    }\n",
       "\n",
       "    .dataframe thead th {\n",
       "        text-align: right;\n",
       "    }\n",
       "</style>\n",
       "<table border=\"1\" class=\"dataframe\">\n",
       "  <thead>\n",
       "    <tr style=\"text-align: right;\">\n",
       "      <th></th>\n",
       "      <th>region_01</th>\n",
       "      <th>region_02</th>\n",
       "      <th>region_03</th>\n",
       "      <th>breakeven</th>\n",
       "    </tr>\n",
       "  </thead>\n",
       "  <tbody>\n",
       "    <tr>\n",
       "      <th>0</th>\n",
       "      <td>92.499684</td>\n",
       "      <td>68.823916</td>\n",
       "      <td>94.998342</td>\n",
       "      <td>111.111111</td>\n",
       "    </tr>\n",
       "  </tbody>\n",
       "</table>\n",
       "</div>"
      ],
      "text/plain": [
       "   region_01  region_02  region_03   breakeven\n",
       "0  92.499684  68.823916  94.998342  111.111111"
      ]
     },
     "execution_count": 34,
     "metadata": {},
     "output_type": "execute_result"
    }
   ],
   "source": [
    "oil_in_regions = pd.DataFrame(np.array([\n",
    "    data_01['product'].values.mean(),\n",
    "    data_02['product'].values.mean(),\n",
    "    data_03['product'].values.mean(),\n",
    "    prod_oil_per_well\n",
    "]\n",
    ").reshape((1,4)))\n",
    "oil_in_regions.columns = ['region_01', 'region_02', 'region_03', 'breakeven' ]\n",
    "oil_in_regions"
   ]
  },
  {
   "cell_type": "markdown",
   "metadata": {},
   "source": [
    "### Выводы. Подготовка к расчету"
   ]
  },
  {
   "cell_type": "markdown",
   "metadata": {},
   "source": [
    "- затраты (бюджет) на разработку 200 скважин в регионе составляют 10 млрд. рублей\n",
    "- точка безубыточности расчитыватеся как:\n",
    "    - 200 скважин * запас 1 скавжины * цену тысячи барралей и должна равняться 10 млрд. рублей\n",
    "- запас сырья одной скважины должен быть не менее 111 тыс. барралей\n",
    "- средний запас сырья в регионах меньше:\n",
    "    - region_01: 92.5\n",
    "    - region_02: 75.0\n",
    "    - region_03: 95.0\n"
   ]
  },
  {
   "cell_type": "markdown",
   "metadata": {},
   "source": [
    "## Расчёт прибыли и рисков "
   ]
  },
  {
   "cell_type": "markdown",
   "metadata": {},
   "source": [
    "функция расчета прибыли:\n",
    "- отбор 500 скважин в регионе из общего объема предсказанных моделью \n",
    "- сортировка этих скважин по убыванию запасов\n",
    "- отбор 200 лучших\n",
    "- соотнесение индексов предсказанных 200 лучших с реальными запасами\n",
    "- получаяем значение прибыли вычетанием себестоимости из реальных запасов 200 отобранных\n",
    "- полученние массива из вариантов прибылей методом Бутстреп\n",
    "- оценка риска убытков (отрицательной прибыли) по 2,5% квантилю массива"
   ]
  },
  {
   "cell_type": "markdown",
   "metadata": {},
   "source": [
    "объединим предсказанные и истинные объемы запасов"
   ]
  },
  {
   "cell_type": "code",
   "execution_count": 35,
   "metadata": {},
   "outputs": [],
   "source": [
    "region_01 = preds_region_01[1].assign(\n",
    "    true_prod_01 = preds_region_01[2].values)\n",
    "region_02 = preds_region_02[1].assign(\n",
    "    true_prod_02 = preds_region_02[2].values)\n",
    "region_03= preds_region_03[1].assign(\n",
    "    true_prod_03 = preds_region_03[2].values)\n",
    "breakeven = 111"
   ]
  },
  {
   "cell_type": "code",
   "execution_count": 36,
   "metadata": {},
   "outputs": [],
   "source": [
    "def revenue_func(df, col_1, col_2):\n",
    "    values = []\n",
    "    for i in range(1000):\n",
    "        target_subsample = df.sample(\n",
    "            n=500,\n",
    "            replace=True,\n",
    "            random_state=state)\n",
    "        rev_subsample = target_subsample.sort_values(\n",
    "            by=col_1, ascending=False)[:200]\n",
    "        revenue = rev_subsample[col_2].sum() * PRICE - BUDGET\n",
    "        values.append(revenue)\n",
    "    values = pd.Series(values)    \n",
    "    lower = values.quantile(0.025)\n",
    "    upper = values.quantile(0.975)\n",
    "    return values, lower, upper"
   ]
  },
  {
   "cell_type": "markdown",
   "metadata": {},
   "source": [
    "- получил 25000 предсказанных и 25000 истинных значений для каждого региона\n",
    "- соотнес и соеденил их друг с другом по индексу в датасет\n",
    "        \n",
    "        - `region_01.shape, region_02.shape, region_03.shape`\n",
    "- ((24998, 2), (22941, 2), (24999, 2))\n",
    "- функция сэмлпрует на вход выборку из 500 значений датасета с 2мя столбцами (предсказанных и истинных значений) - получается 1000 значений \n",
    "        \n",
    "        - `target_subsample = df.sample(\n",
    "            n=500,\n",
    "            replace=True,\n",
    "            random_state=state)`\n",
    "- сортирую по убыванию датасет по признаку 'предсказание' и получается, что одновременно ему подтягивается истинное значение добычи\n",
    "- срезаю 200 лучших\n",
    "        \n",
    "        -`rev_subsample = target_subsample.sort_values(\n",
    "        by=col_1, ascending=False)[:200]`\n",
    "- расчитываю выручку как разницу между истинным значением запасов (из отоборанных 200) и себестоимостью\n",
    "\n",
    "        - `revenue = rev_subsample[col_2].sum() - product_breakeven`\n",
    "- собираю распределение из 1000 вариантов выручки бутстрепом в массив\n",
    "- считаю среднее значение выручки\n",
    "- если в распределение за границей 2.5% квантиля есть отрицательные значения, то риск не приемлим (ошибся в значении квантиля - 5% вместо 2.5%) \n"
   ]
  },
  {
   "cell_type": "markdown",
   "metadata": {},
   "source": [
    "### регион 1"
   ]
  },
  {
   "cell_type": "code",
   "execution_count": 37,
   "metadata": {},
   "outputs": [
    {
     "name": "stdout",
     "output_type": "stream",
     "text": [
      "Средняя выручка: 417_354 тысяч рублей\n",
      "Доверитильный интервал 95%: (-96_262 , 933_493)\n",
      "Риск получить убытки: 5.9%\n"
     ]
    }
   ],
   "source": [
    "region_01_results = revenue_func(region_01, 'region_01', 'true_prod_01')\n",
    "print(f'Средняя выручка: {region_01_results[0].mean():_.0f} тысяч рублей')\n",
    "print(f'Доверитильный интервал 95%: ({region_01_results[1]:_.0f} , {region_01_results[2]:_.0f})')\n",
    "print(f'Риск получить убытки: {len([x for x in region_01_results[0] if x < 0]) / len(region_01_results[0]):_.1%}')\n"
   ]
  },
  {
   "cell_type": "code",
   "execution_count": 38,
   "metadata": {},
   "outputs": [],
   "source": [
    "def revenue_distr (results):\n",
    "    fig, ax = plt.subplots(figsize=(15,5))\n",
    "    sns.kdeplot(results[0], color='green', ax=ax)\n",
    "    xs, ys = ax.lines[0].get_data()\n",
    "    ax.vlines(results[1],\n",
    "            0, np.interp(results[1], xs, ys),\n",
    "            label = '2,5% кванитль', \n",
    "            color='red')\n",
    "    ax.vlines(results[2],\n",
    "            0, np.interp(results[2], xs, ys),\n",
    "            label = '97,5% кванитль', \n",
    "            color='red')\n",
    "    ax.vlines(results[0].mean(),\n",
    "            0, np.interp(results[0].mean(), xs, ys),\n",
    "            label = 'Cредняя выручка', \n",
    "            color='blue',)\n",
    "    \n",
    "    plt.legend(loc='upper right')\n",
    "    plt.show()"
   ]
  },
  {
   "cell_type": "code",
   "execution_count": 39,
   "metadata": {},
   "outputs": [
    {
     "data": {
      "image/png": "[encoded data removed]",
      "text/plain": [
       "<Figure size 1500x500 with 1 Axes>"
      ]
     },
     "metadata": {},
     "output_type": "display_data"
    }
   ],
   "source": [
    "revenue_distr(region_01_results)"
   ]
  },
  {
   "cell_type": "markdown",
   "metadata": {},
   "source": [
    "### регион 2"
   ]
  },
  {
   "cell_type": "code",
   "execution_count": 40,
   "metadata": {},
   "outputs": [
    {
     "name": "stdout",
     "output_type": "stream",
     "text": [
      "Средняя выручка: 435_440 тысяч рублей\n",
      "Доверитильный интервал 95%: (25_316 , 832_288)\n",
      "Риск получить убытки: 1.90%\n"
     ]
    }
   ],
   "source": [
    "region_02_results = revenue_func(\n",
    "    region_02, 'region_02', 'true_prod_02')\n",
    "print(f'Средняя выручка: {region_02_results[0].mean():_.0f} тысяч рублей')\n",
    "print(f'Доверитильный интервал 95%: ({region_02_results[1]:_.0f} , {region_02_results[2]:_.0f})')\n",
    "print(f'Риск получить убытки: {len([x for x in region_02_results[0] if x < 0]) / len(region_02_results[0]):_.2%}')\n"
   ]
  },
  {
   "cell_type": "code",
   "execution_count": 41,
   "metadata": {},
   "outputs": [
    {
     "data": {
      "image/png": "[encoded data removed]",
      "text/plain": [
       "<Figure size 1500x500 with 1 Axes>"
      ]
     },
     "metadata": {},
     "output_type": "display_data"
    }
   ],
   "source": [
    "revenue_distr(region_02_results)"
   ]
  },
  {
   "cell_type": "markdown",
   "metadata": {},
   "source": [
    "### регион 3"
   ]
  },
  {
   "cell_type": "code",
   "execution_count": 61,
   "metadata": {},
   "outputs": [
    {
     "name": "stdout",
     "output_type": "stream",
     "text": [
      "Средняя выручка: 372_530 тысяч рублей\n",
      "Доверитильный интервал 95%: (-164_867, 920_722)\n",
      "Риск получить убытки: 7.8%\n"
     ]
    }
   ],
   "source": [
    "region_03_results = revenue_func(\n",
    "    region_03, 'region_03', 'true_prod_03')\n",
    "rev_3 = region_03_results[0].mean()\n",
    "conf_int_3 = region_03_results[1] , region_03_results[2]\n",
    "loss_3 = len([x for x in region_03_results[0] if x < 0]) / len(region_03_results[0])\n",
    "print(f'Средняя выручка: {rev_3:_.0f} тысяч рублей')\n",
    "print(f'Доверитильный интервал 95%: ({conf_int_3[0]:_.0f}, {conf_int_3[1]:_.0f})')\n",
    "print(f'Риск получить убытки: {loss_3:_.1%}')\n"
   ]
  },
  {
   "cell_type": "code",
   "execution_count": 43,
   "metadata": {},
   "outputs": [
    {
     "data": {
      "image/png": "[encoded data removed]",
      "text/plain": [
       "<Figure size 1500x500 with 1 Axes>"
      ]
     },
     "metadata": {},
     "output_type": "display_data"
    }
   ],
   "source": [
    "revenue_distr(region_03_results)"
   ]
  },
  {
   "cell_type": "markdown",
   "metadata": {},
   "source": [
    "### Выводы. Рачет прибыли и рисков"
   ]
  },
  {
   "cell_type": "markdown",
   "metadata": {},
   "source": [
    "1. Подготовлена функция расчета прибыли:\n",
    "- отбор 500 скважин в регионе из общего объема предсказанных моделью \n",
    "- сортировка этих скважин по убыванию запасов\n",
    "- отбор 200 лучших\n",
    "- соотнесение индексов предсказанных 200 лучших с реальными запасами\n",
    "- получаяем значение прибыли вычетанием себестоимости из реальных запасов 200 отобранных\n",
    "2. Произведен расчет рисков: \n",
    "- получен массива из вариантов прибылей методом Бутстреп\n",
    "- оценка риска убытков (отрицательной прибыли) по 2,5% квантилю массива\n",
    "3. Произведена оценка прибыли регионов:\n",
    "\n",
    "- регион 2 - самый перспективный к разработке\n",
    "    - Средняя выручка: 436_202 тыс. рублей\n",
    "    - Доверитильный интервал 95%: (33_685 , 832_305)\n",
    "    - риск получить убытки 1.80%\n",
    "    \n",
    "- регион 1\n",
    "    - Средняя выручка: 416_533 тыс.рублей\n",
    "    - Доверитильный интервал 95%: (-116_474 , 872_514)\n",
    "    - риск получить убытки 5.8%\n",
    "- регион 3\n",
    "    - Средняя выручка: 372_351 тыс.рублей\n",
    "    - Доверитильный интервал 95%: (-207_717 , 898_399)\n",
    "    - риск получить убытки loss_3 = {{loss_3}}"
   ]
  },
  {
   "cell_type": "markdown",
   "metadata": {},
   "source": [
    "## Чек-лист готовности проекта"
   ]
  },
  {
   "cell_type": "markdown",
   "metadata": {},
   "source": [
    "Поставьте 'x' в выполненных пунктах. Далее нажмите Shift+Enter."
   ]
  },
  {
   "cell_type": "markdown",
   "metadata": {},
   "source": [
    "- [x]  Jupyter Notebook открыт\n",
    "- [ ]  Весь код выполняется без ошибок\n",
    "- [ ]  Ячейки с кодом расположены в порядке исполнения\n",
    "- [ ]  Выполнен шаг 1: данные подготовлены\n",
    "- [ ]  Выполнен шаг 2: модели обучены и проверены\n",
    "    - [ ]  Данные корректно разбиты на обучающую и валидационную выборки\n",
    "    - [ ]  Модели обучены, предсказания сделаны\n",
    "    - [ ]  Предсказания и правильные ответы на валидационной выборке сохранены\n",
    "    - [ ]  На экране напечатаны результаты\n",
    "    - [ ]  Сделаны выводы\n",
    "- [ ]  Выполнен шаг 3: проведена подготовка к расчёту прибыли\n",
    "    - [ ]  Для всех ключевых значений созданы константы Python\n",
    "    - [ ]  Посчитано минимальное среднее количество продукта в месторождениях региона, достаточное для разработки\n",
    "    - [ ]  По предыдущему пункту сделаны выводы\n",
    "    - [ ]  Написана функция расчёта прибыли\n",
    "- [ ]  Выполнен шаг 4: посчитаны риски и прибыль\n",
    "    - [ ]  Проведена процедура *Bootstrap*\n",
    "    - [ ]  Все параметры бутстрепа соответствуют условию\n",
    "    - [ ]  Найдены все нужные величины\n",
    "    - [ ]  Предложен регион для разработки месторождения\n",
    "    - [ ]  Выбор региона обоснован"
   ]
  }
 ],
 "metadata": {
  "ExecuteTimeLog": [
   {
    "duration": 364,
    "start_time": "2024-07-11T05:22:12.732Z"
   },
   {
    "duration": 3,
    "start_time": "2024-07-11T05:27:26.513Z"
   },
   {
    "duration": 56,
    "start_time": "2024-07-11T05:27:28.725Z"
   },
   {
    "duration": 51,
    "start_time": "2024-07-11T05:27:42.784Z"
   },
   {
    "duration": 32058,
    "start_time": "2024-07-16T18:45:39.437Z"
   },
   {
    "duration": 1080,
    "start_time": "2024-07-16T18:46:38.545Z"
   },
   {
    "duration": 2,
    "start_time": "2024-07-16T18:46:42.664Z"
   },
   {
    "duration": 1760,
    "start_time": "2024-07-16T18:46:44.729Z"
   },
   {
    "duration": 2,
    "start_time": "2024-07-16T18:46:57.369Z"
   },
   {
    "duration": 26,
    "start_time": "2024-07-16T18:47:09.024Z"
   },
   {
    "duration": 16,
    "start_time": "2024-07-16T18:47:18.474Z"
   },
   {
    "duration": 16,
    "start_time": "2024-07-16T18:47:25.793Z"
   },
   {
    "duration": 3,
    "start_time": "2024-07-16T18:48:07.017Z"
   },
   {
    "duration": 41,
    "start_time": "2024-07-16T18:48:24.562Z"
   },
   {
    "duration": 42,
    "start_time": "2024-07-16T18:48:30.529Z"
   },
   {
    "duration": 22,
    "start_time": "2024-07-16T18:48:48.409Z"
   },
   {
    "duration": 11,
    "start_time": "2024-07-16T18:49:06.673Z"
   },
   {
    "duration": 19,
    "start_time": "2024-07-16T18:49:20.842Z"
   },
   {
    "duration": 5,
    "start_time": "2024-07-16T18:49:37.394Z"
   },
   {
    "duration": 35,
    "start_time": "2024-07-16T18:50:02.475Z"
   },
   {
    "duration": 37,
    "start_time": "2024-07-16T18:50:08.619Z"
   },
   {
    "duration": 21,
    "start_time": "2024-07-16T18:50:18.116Z"
   },
   {
    "duration": 76,
    "start_time": "2024-07-16T18:50:34.011Z"
   },
   {
    "duration": 8,
    "start_time": "2024-07-16T18:50:42.788Z"
   },
   {
    "duration": 77,
    "start_time": "2024-07-16T18:51:12.699Z"
   },
   {
    "duration": 126,
    "start_time": "2024-07-16T18:51:20.395Z"
   },
   {
    "duration": 74,
    "start_time": "2024-07-16T18:51:44.204Z"
   },
   {
    "duration": 3,
    "start_time": "2024-07-16T18:51:47.339Z"
   },
   {
    "duration": 4,
    "start_time": "2024-07-16T18:51:52.667Z"
   },
   {
    "duration": 20,
    "start_time": "2024-07-16T18:52:13.010Z"
   },
   {
    "duration": 5,
    "start_time": "2024-07-16T18:52:21.251Z"
   },
   {
    "duration": 46,
    "start_time": "2024-07-16T18:52:40.235Z"
   },
   {
    "duration": 41,
    "start_time": "2024-07-16T18:52:47.627Z"
   },
   {
    "duration": 18,
    "start_time": "2024-07-16T18:52:55.331Z"
   },
   {
    "duration": 11,
    "start_time": "2024-07-16T18:53:03.723Z"
   },
   {
    "duration": 70,
    "start_time": "2024-07-16T18:53:12.131Z"
   },
   {
    "duration": 17,
    "start_time": "2024-07-16T18:53:21.052Z"
   },
   {
    "duration": 4,
    "start_time": "2024-07-16T18:53:28.988Z"
   },
   {
    "duration": 4,
    "start_time": "2024-07-16T18:54:15.972Z"
   },
   {
    "duration": 129,
    "start_time": "2024-07-16T18:54:34.158Z"
   },
   {
    "duration": 82,
    "start_time": "2024-07-16T18:54:40.901Z"
   },
   {
    "duration": 199,
    "start_time": "2024-07-16T18:54:47.084Z"
   },
   {
    "duration": 59,
    "start_time": "2024-07-16T18:57:59.806Z"
   },
   {
    "duration": 4,
    "start_time": "2024-07-16T18:58:12.623Z"
   },
   {
    "duration": 4,
    "start_time": "2024-07-16T18:58:25.246Z"
   },
   {
    "duration": 10,
    "start_time": "2024-07-16T18:59:00.879Z"
   },
   {
    "duration": 9,
    "start_time": "2024-07-16T18:59:34.535Z"
   },
   {
    "duration": 83,
    "start_time": "2024-07-16T18:59:55.785Z"
   },
   {
    "duration": 4,
    "start_time": "2024-07-16T19:00:29.736Z"
   },
   {
    "duration": 4,
    "start_time": "2024-07-16T19:00:35.871Z"
   },
   {
    "duration": 550,
    "start_time": "2024-07-16T19:00:53.408Z"
   },
   {
    "duration": 557,
    "start_time": "2024-07-16T19:01:13.153Z"
   },
   {
    "duration": 540,
    "start_time": "2024-07-16T19:01:33.338Z"
   },
   {
    "duration": 3,
    "start_time": "2024-07-18T07:00:13.481Z"
   },
   {
    "duration": 6776,
    "start_time": "2024-07-18T07:00:13.486Z"
   },
   {
    "duration": 0,
    "start_time": "2024-07-18T07:00:20.266Z"
   },
   {
    "duration": 0,
    "start_time": "2024-07-18T07:00:20.267Z"
   },
   {
    "duration": 0,
    "start_time": "2024-07-18T07:00:20.268Z"
   },
   {
    "duration": 0,
    "start_time": "2024-07-18T07:00:20.269Z"
   },
   {
    "duration": 0,
    "start_time": "2024-07-18T07:00:20.270Z"
   },
   {
    "duration": 0,
    "start_time": "2024-07-18T07:00:20.270Z"
   },
   {
    "duration": 0,
    "start_time": "2024-07-18T07:00:20.271Z"
   },
   {
    "duration": 0,
    "start_time": "2024-07-18T07:00:20.272Z"
   },
   {
    "duration": 0,
    "start_time": "2024-07-18T07:00:20.273Z"
   },
   {
    "duration": 0,
    "start_time": "2024-07-18T07:00:20.274Z"
   },
   {
    "duration": 0,
    "start_time": "2024-07-18T07:00:20.275Z"
   },
   {
    "duration": 0,
    "start_time": "2024-07-18T07:00:20.276Z"
   },
   {
    "duration": 0,
    "start_time": "2024-07-18T07:00:20.277Z"
   },
   {
    "duration": 0,
    "start_time": "2024-07-18T07:00:20.278Z"
   },
   {
    "duration": 0,
    "start_time": "2024-07-18T07:00:20.279Z"
   },
   {
    "duration": 0,
    "start_time": "2024-07-18T07:00:20.279Z"
   },
   {
    "duration": 0,
    "start_time": "2024-07-18T07:00:20.280Z"
   },
   {
    "duration": 0,
    "start_time": "2024-07-18T07:00:20.281Z"
   },
   {
    "duration": 0,
    "start_time": "2024-07-18T07:00:20.282Z"
   },
   {
    "duration": 0,
    "start_time": "2024-07-18T07:00:20.283Z"
   },
   {
    "duration": 0,
    "start_time": "2024-07-18T07:00:20.284Z"
   },
   {
    "duration": 0,
    "start_time": "2024-07-18T07:00:20.285Z"
   },
   {
    "duration": 0,
    "start_time": "2024-07-18T07:00:20.286Z"
   },
   {
    "duration": 0,
    "start_time": "2024-07-18T07:00:20.286Z"
   },
   {
    "duration": 0,
    "start_time": "2024-07-18T07:00:20.287Z"
   },
   {
    "duration": 0,
    "start_time": "2024-07-18T07:00:20.288Z"
   },
   {
    "duration": 0,
    "start_time": "2024-07-18T07:00:20.289Z"
   },
   {
    "duration": 0,
    "start_time": "2024-07-18T07:00:20.290Z"
   },
   {
    "duration": 0,
    "start_time": "2024-07-18T07:00:20.291Z"
   },
   {
    "duration": 0,
    "start_time": "2024-07-18T07:00:20.292Z"
   },
   {
    "duration": 0,
    "start_time": "2024-07-18T07:00:20.293Z"
   },
   {
    "duration": 0,
    "start_time": "2024-07-18T07:00:20.293Z"
   },
   {
    "duration": 0,
    "start_time": "2024-07-18T07:00:20.294Z"
   },
   {
    "duration": 0,
    "start_time": "2024-07-18T07:00:20.295Z"
   },
   {
    "duration": 0,
    "start_time": "2024-07-18T07:00:20.296Z"
   },
   {
    "duration": 0,
    "start_time": "2024-07-18T07:00:20.297Z"
   },
   {
    "duration": 0,
    "start_time": "2024-07-18T07:00:20.298Z"
   },
   {
    "duration": 0,
    "start_time": "2024-07-18T07:00:20.299Z"
   },
   {
    "duration": 0,
    "start_time": "2024-07-18T07:00:20.300Z"
   },
   {
    "duration": 0,
    "start_time": "2024-07-18T07:00:20.360Z"
   },
   {
    "duration": 0,
    "start_time": "2024-07-18T07:00:20.361Z"
   },
   {
    "duration": 0,
    "start_time": "2024-07-18T07:00:20.362Z"
   },
   {
    "duration": 0,
    "start_time": "2024-07-18T07:00:20.363Z"
   },
   {
    "duration": 0,
    "start_time": "2024-07-18T07:00:20.364Z"
   },
   {
    "duration": 5,
    "start_time": "2024-07-18T07:03:17.428Z"
   },
   {
    "duration": 3,
    "start_time": "2024-07-18T07:03:21.407Z"
   },
   {
    "duration": 1019,
    "start_time": "2024-07-18T07:03:21.627Z"
   },
   {
    "duration": 3,
    "start_time": "2024-07-18T07:03:22.648Z"
   },
   {
    "duration": 37,
    "start_time": "2024-07-18T07:03:23.314Z"
   },
   {
    "duration": 21,
    "start_time": "2024-07-18T07:03:23.735Z"
   },
   {
    "duration": 23,
    "start_time": "2024-07-18T07:03:23.911Z"
   },
   {
    "duration": 4,
    "start_time": "2024-07-18T07:03:24.406Z"
   },
   {
    "duration": 47,
    "start_time": "2024-07-18T07:03:24.736Z"
   },
   {
    "duration": 53,
    "start_time": "2024-07-18T07:03:24.912Z"
   },
   {
    "duration": 27,
    "start_time": "2024-07-18T07:03:25.278Z"
   },
   {
    "duration": 13,
    "start_time": "2024-07-18T07:03:25.440Z"
   },
   {
    "duration": 19,
    "start_time": "2024-07-18T07:03:25.802Z"
   },
   {
    "duration": 7,
    "start_time": "2024-07-18T07:03:25.975Z"
   },
   {
    "duration": 43,
    "start_time": "2024-07-18T07:03:26.347Z"
   },
   {
    "duration": 60,
    "start_time": "2024-07-18T07:03:26.513Z"
   },
   {
    "duration": 21,
    "start_time": "2024-07-18T07:03:26.690Z"
   },
   {
    "duration": 12,
    "start_time": "2024-07-18T07:03:27.051Z"
   },
   {
    "duration": 4,
    "start_time": "2024-07-18T07:03:27.254Z"
   },
   {
    "duration": 20,
    "start_time": "2024-07-18T07:03:27.594Z"
   },
   {
    "duration": 8,
    "start_time": "2024-07-18T07:03:27.966Z"
   },
   {
    "duration": 44,
    "start_time": "2024-07-18T07:03:28.321Z"
   },
   {
    "duration": 47,
    "start_time": "2024-07-18T07:03:28.517Z"
   },
   {
    "duration": 23,
    "start_time": "2024-07-18T07:03:28.701Z"
   },
   {
    "duration": 12,
    "start_time": "2024-07-18T07:03:28.884Z"
   },
   {
    "duration": 21,
    "start_time": "2024-07-18T07:03:29.249Z"
   },
   {
    "duration": 7,
    "start_time": "2024-07-18T07:03:29.440Z"
   },
   {
    "duration": 5,
    "start_time": "2024-07-18T07:03:30.565Z"
   },
   {
    "duration": 314,
    "start_time": "2024-07-18T07:03:30.748Z"
   },
   {
    "duration": 0,
    "start_time": "2024-07-18T07:03:31.063Z"
   },
   {
    "duration": 5,
    "start_time": "2024-07-18T07:03:38.530Z"
   },
   {
    "duration": 128,
    "start_time": "2024-07-18T07:03:38.734Z"
   },
   {
    "duration": 233,
    "start_time": "2024-07-18T07:03:39.228Z"
   },
   {
    "duration": 99,
    "start_time": "2024-07-18T07:03:39.463Z"
   },
   {
    "duration": 4,
    "start_time": "2024-07-18T07:03:43.079Z"
   },
   {
    "duration": 9,
    "start_time": "2024-07-18T07:03:43.479Z"
   },
   {
    "duration": 6,
    "start_time": "2024-07-18T07:03:45.071Z"
   },
   {
    "duration": 4,
    "start_time": "2024-07-18T07:03:45.408Z"
   },
   {
    "duration": 7,
    "start_time": "2024-07-18T07:03:46.083Z"
   },
   {
    "duration": 10,
    "start_time": "2024-07-18T07:03:46.305Z"
   },
   {
    "duration": 13,
    "start_time": "2024-07-18T07:03:46.616Z"
   },
   {
    "duration": 14,
    "start_time": "2024-07-18T07:03:47.158Z"
   },
   {
    "duration": 826,
    "start_time": "2024-07-18T07:03:49.224Z"
   },
   {
    "duration": 169,
    "start_time": "2024-07-18T07:03:50.052Z"
   },
   {
    "duration": 789,
    "start_time": "2024-07-18T07:03:57.730Z"
   },
   {
    "duration": 163,
    "start_time": "2024-07-18T07:03:58.521Z"
   },
   {
    "duration": 820,
    "start_time": "2024-07-18T07:04:02.662Z"
   },
   {
    "duration": 175,
    "start_time": "2024-07-18T07:04:03.484Z"
   },
   {
    "duration": 10,
    "start_time": "2024-07-18T07:05:29.224Z"
   },
   {
    "duration": 9,
    "start_time": "2024-07-18T07:05:36.014Z"
   },
   {
    "duration": 10,
    "start_time": "2024-07-18T18:02:24.608Z"
   },
   {
    "duration": 1686,
    "start_time": "2024-07-18T18:02:36.045Z"
   },
   {
    "duration": 35245,
    "start_time": "2024-07-18T18:04:05.711Z"
   },
   {
    "duration": 35426,
    "start_time": "2024-07-18T18:05:02.923Z"
   },
   {
    "duration": 16,
    "start_time": "2024-07-18T18:05:38.352Z"
   },
   {
    "duration": 0,
    "start_time": "2024-07-18T18:05:38.370Z"
   },
   {
    "duration": 0,
    "start_time": "2024-07-18T18:05:38.371Z"
   },
   {
    "duration": 0,
    "start_time": "2024-07-18T18:05:38.372Z"
   },
   {
    "duration": 0,
    "start_time": "2024-07-18T18:05:38.374Z"
   },
   {
    "duration": 0,
    "start_time": "2024-07-18T18:05:38.375Z"
   },
   {
    "duration": 0,
    "start_time": "2024-07-18T18:05:38.376Z"
   },
   {
    "duration": 0,
    "start_time": "2024-07-18T18:05:38.377Z"
   },
   {
    "duration": 0,
    "start_time": "2024-07-18T18:05:38.377Z"
   },
   {
    "duration": 0,
    "start_time": "2024-07-18T18:05:38.378Z"
   },
   {
    "duration": 0,
    "start_time": "2024-07-18T18:05:38.379Z"
   },
   {
    "duration": 0,
    "start_time": "2024-07-18T18:05:38.381Z"
   },
   {
    "duration": 0,
    "start_time": "2024-07-18T18:05:38.381Z"
   },
   {
    "duration": 0,
    "start_time": "2024-07-18T18:05:38.383Z"
   },
   {
    "duration": 0,
    "start_time": "2024-07-18T18:05:38.384Z"
   },
   {
    "duration": 0,
    "start_time": "2024-07-18T18:05:38.385Z"
   },
   {
    "duration": 0,
    "start_time": "2024-07-18T18:05:38.386Z"
   },
   {
    "duration": 0,
    "start_time": "2024-07-18T18:05:38.386Z"
   },
   {
    "duration": 0,
    "start_time": "2024-07-18T18:05:38.387Z"
   },
   {
    "duration": 0,
    "start_time": "2024-07-18T18:05:38.388Z"
   },
   {
    "duration": 0,
    "start_time": "2024-07-18T18:05:38.389Z"
   },
   {
    "duration": 0,
    "start_time": "2024-07-18T18:05:38.390Z"
   },
   {
    "duration": 0,
    "start_time": "2024-07-18T18:05:38.391Z"
   },
   {
    "duration": 0,
    "start_time": "2024-07-18T18:05:38.392Z"
   },
   {
    "duration": 0,
    "start_time": "2024-07-18T18:05:38.393Z"
   },
   {
    "duration": 0,
    "start_time": "2024-07-18T18:05:38.394Z"
   },
   {
    "duration": 0,
    "start_time": "2024-07-18T18:05:38.395Z"
   },
   {
    "duration": 0,
    "start_time": "2024-07-18T18:05:38.396Z"
   },
   {
    "duration": 0,
    "start_time": "2024-07-18T18:05:38.397Z"
   },
   {
    "duration": 0,
    "start_time": "2024-07-18T18:05:38.407Z"
   },
   {
    "duration": 0,
    "start_time": "2024-07-18T18:05:38.408Z"
   },
   {
    "duration": 0,
    "start_time": "2024-07-18T18:05:38.409Z"
   },
   {
    "duration": 0,
    "start_time": "2024-07-18T18:05:38.410Z"
   },
   {
    "duration": 0,
    "start_time": "2024-07-18T18:05:38.411Z"
   },
   {
    "duration": 4,
    "start_time": "2024-07-18T18:07:07.158Z"
   },
   {
    "duration": 35569,
    "start_time": "2024-07-18T18:08:04.455Z"
   },
   {
    "duration": 16,
    "start_time": "2024-07-18T18:08:44.336Z"
   },
   {
    "duration": 1987,
    "start_time": "2024-07-18T18:09:14.575Z"
   },
   {
    "duration": 3,
    "start_time": "2024-07-18T18:09:34.941Z"
   },
   {
    "duration": 8,
    "start_time": "2024-07-18T18:09:34.945Z"
   },
   {
    "duration": 4,
    "start_time": "2024-07-18T18:09:34.955Z"
   },
   {
    "duration": 2427,
    "start_time": "2024-07-18T18:09:34.961Z"
   },
   {
    "duration": 3,
    "start_time": "2024-07-18T18:09:37.389Z"
   },
   {
    "duration": 47,
    "start_time": "2024-07-18T18:09:37.394Z"
   },
   {
    "duration": 18,
    "start_time": "2024-07-18T18:09:37.442Z"
   },
   {
    "duration": 18,
    "start_time": "2024-07-18T18:09:37.461Z"
   },
   {
    "duration": 14,
    "start_time": "2024-07-18T18:09:37.481Z"
   },
   {
    "duration": 58,
    "start_time": "2024-07-18T18:09:37.498Z"
   },
   {
    "duration": 52,
    "start_time": "2024-07-18T18:09:37.557Z"
   },
   {
    "duration": 24,
    "start_time": "2024-07-18T18:09:37.610Z"
   },
   {
    "duration": 21,
    "start_time": "2024-07-18T18:09:37.636Z"
   },
   {
    "duration": 70,
    "start_time": "2024-07-18T18:09:37.659Z"
   },
   {
    "duration": 5,
    "start_time": "2024-07-18T18:09:37.731Z"
   },
   {
    "duration": 53,
    "start_time": "2024-07-18T18:09:37.737Z"
   },
   {
    "duration": 47,
    "start_time": "2024-07-18T18:09:37.792Z"
   },
   {
    "duration": 21,
    "start_time": "2024-07-18T18:09:37.841Z"
   },
   {
    "duration": 26,
    "start_time": "2024-07-18T18:09:37.864Z"
   },
   {
    "duration": 28,
    "start_time": "2024-07-18T18:09:37.892Z"
   },
   {
    "duration": 42,
    "start_time": "2024-07-18T18:09:37.921Z"
   },
   {
    "duration": 4,
    "start_time": "2024-07-18T18:09:37.964Z"
   },
   {
    "duration": 52,
    "start_time": "2024-07-18T18:09:37.971Z"
   },
   {
    "duration": 48,
    "start_time": "2024-07-18T18:09:38.025Z"
   },
   {
    "duration": 34,
    "start_time": "2024-07-18T18:09:38.075Z"
   },
   {
    "duration": 13,
    "start_time": "2024-07-18T18:09:38.111Z"
   },
   {
    "duration": 21,
    "start_time": "2024-07-18T18:09:38.126Z"
   },
   {
    "duration": 5,
    "start_time": "2024-07-18T18:09:38.150Z"
   },
   {
    "duration": 5,
    "start_time": "2024-07-18T18:09:38.156Z"
   },
   {
    "duration": 146,
    "start_time": "2024-07-18T18:09:38.162Z"
   },
   {
    "duration": 199,
    "start_time": "2024-07-18T18:09:38.408Z"
   },
   {
    "duration": 199,
    "start_time": "2024-07-18T18:09:38.609Z"
   },
   {
    "duration": 4,
    "start_time": "2024-07-18T18:09:38.810Z"
   },
   {
    "duration": 16,
    "start_time": "2024-07-18T18:09:38.816Z"
   },
   {
    "duration": 9,
    "start_time": "2024-07-18T18:09:38.833Z"
   },
   {
    "duration": 4,
    "start_time": "2024-07-18T18:09:43.823Z"
   },
   {
    "duration": 4,
    "start_time": "2024-07-18T18:09:46.192Z"
   },
   {
    "duration": 7,
    "start_time": "2024-07-18T18:09:48.544Z"
   },
   {
    "duration": 7,
    "start_time": "2024-07-18T18:09:50.111Z"
   },
   {
    "duration": 13,
    "start_time": "2024-07-18T18:10:00.016Z"
   },
   {
    "duration": 13,
    "start_time": "2024-07-18T18:10:02.570Z"
   },
   {
    "duration": 127,
    "start_time": "2024-07-18T18:12:00.649Z"
   },
   {
    "duration": 4,
    "start_time": "2024-07-18T18:12:24.289Z"
   },
   {
    "duration": 4,
    "start_time": "2024-07-18T18:12:27.608Z"
   },
   {
    "duration": 7,
    "start_time": "2024-07-18T18:12:28.984Z"
   },
   {
    "duration": 11,
    "start_time": "2024-07-18T18:12:30.465Z"
   },
   {
    "duration": 13,
    "start_time": "2024-07-18T18:12:32.385Z"
   },
   {
    "duration": 615,
    "start_time": "2024-07-18T18:12:34.889Z"
   },
   {
    "duration": 454,
    "start_time": "2024-07-18T18:12:41.370Z"
   },
   {
    "duration": 643,
    "start_time": "2024-07-18T18:12:44.097Z"
   },
   {
    "duration": 489,
    "start_time": "2024-07-18T18:12:46.984Z"
   },
   {
    "duration": 631,
    "start_time": "2024-07-18T18:12:50.833Z"
   },
   {
    "duration": 360,
    "start_time": "2024-07-18T18:12:53.465Z"
   },
   {
    "duration": 687,
    "start_time": "2024-07-18T18:13:41.025Z"
   },
   {
    "duration": 667,
    "start_time": "2024-07-18T18:13:53.065Z"
   },
   {
    "duration": 654,
    "start_time": "2024-07-18T18:13:58.657Z"
   },
   {
    "duration": 622,
    "start_time": "2024-07-18T18:14:03.418Z"
   },
   {
    "duration": 631,
    "start_time": "2024-07-18T18:14:12.913Z"
   },
   {
    "duration": 648,
    "start_time": "2024-07-18T18:14:43.737Z"
   },
   {
    "duration": 631,
    "start_time": "2024-07-18T18:15:08.299Z"
   },
   {
    "duration": 3,
    "start_time": "2024-07-18T18:24:33.145Z"
   },
   {
    "duration": 4,
    "start_time": "2024-07-18T18:24:33.150Z"
   },
   {
    "duration": 9,
    "start_time": "2024-07-18T18:24:33.156Z"
   },
   {
    "duration": 468,
    "start_time": "2024-07-18T18:24:33.167Z"
   },
   {
    "duration": 3,
    "start_time": "2024-07-18T18:24:33.637Z"
   },
   {
    "duration": 33,
    "start_time": "2024-07-18T18:24:33.642Z"
   },
   {
    "duration": 23,
    "start_time": "2024-07-18T18:24:33.677Z"
   },
   {
    "duration": 19,
    "start_time": "2024-07-18T18:24:33.702Z"
   },
   {
    "duration": 4,
    "start_time": "2024-07-18T18:24:33.724Z"
   },
   {
    "duration": 49,
    "start_time": "2024-07-18T18:24:33.729Z"
   },
   {
    "duration": 67,
    "start_time": "2024-07-18T18:24:33.780Z"
   },
   {
    "duration": 21,
    "start_time": "2024-07-18T18:24:33.848Z"
   },
   {
    "duration": 34,
    "start_time": "2024-07-18T18:24:33.871Z"
   },
   {
    "duration": 33,
    "start_time": "2024-07-18T18:24:33.907Z"
   },
   {
    "duration": 10,
    "start_time": "2024-07-18T18:24:33.942Z"
   },
   {
    "duration": 60,
    "start_time": "2024-07-18T18:24:33.953Z"
   },
   {
    "duration": 43,
    "start_time": "2024-07-18T18:24:34.015Z"
   },
   {
    "duration": 21,
    "start_time": "2024-07-18T18:24:34.060Z"
   },
   {
    "duration": 28,
    "start_time": "2024-07-18T18:24:34.083Z"
   },
   {
    "duration": 18,
    "start_time": "2024-07-18T18:24:34.113Z"
   },
   {
    "duration": 32,
    "start_time": "2024-07-18T18:24:34.133Z"
   },
   {
    "duration": 16,
    "start_time": "2024-07-18T18:24:34.167Z"
   },
   {
    "duration": 51,
    "start_time": "2024-07-18T18:24:34.185Z"
   },
   {
    "duration": 48,
    "start_time": "2024-07-18T18:24:34.239Z"
   },
   {
    "duration": 26,
    "start_time": "2024-07-18T18:24:34.289Z"
   },
   {
    "duration": 23,
    "start_time": "2024-07-18T18:24:34.317Z"
   },
   {
    "duration": 35,
    "start_time": "2024-07-18T18:24:34.341Z"
   },
   {
    "duration": 5,
    "start_time": "2024-07-18T18:24:34.377Z"
   },
   {
    "duration": 8,
    "start_time": "2024-07-18T18:24:34.383Z"
   },
   {
    "duration": 215,
    "start_time": "2024-07-18T18:24:34.393Z"
   },
   {
    "duration": 202,
    "start_time": "2024-07-18T18:24:34.610Z"
   },
   {
    "duration": 293,
    "start_time": "2024-07-18T18:24:34.814Z"
   },
   {
    "duration": 4,
    "start_time": "2024-07-18T18:24:35.109Z"
   },
   {
    "duration": 19,
    "start_time": "2024-07-18T18:24:35.114Z"
   },
   {
    "duration": 27,
    "start_time": "2024-07-18T18:24:35.135Z"
   },
   {
    "duration": 20,
    "start_time": "2024-07-18T18:24:35.164Z"
   },
   {
    "duration": 646,
    "start_time": "2024-07-18T18:24:35.186Z"
   },
   {
    "duration": 431,
    "start_time": "2024-07-18T18:24:35.834Z"
   },
   {
    "duration": 650,
    "start_time": "2024-07-18T18:24:36.267Z"
   },
   {
    "duration": 393,
    "start_time": "2024-07-18T18:24:36.919Z"
   },
   {
    "duration": 670,
    "start_time": "2024-07-18T18:24:37.314Z"
   },
   {
    "duration": 412,
    "start_time": "2024-07-18T18:24:37.985Z"
   },
   {
    "duration": 46857,
    "start_time": "2024-07-19T16:12:38.158Z"
   },
   {
    "duration": 4,
    "start_time": "2024-07-19T16:13:33.898Z"
   },
   {
    "duration": 2153,
    "start_time": "2024-07-19T16:13:33.904Z"
   },
   {
    "duration": 2,
    "start_time": "2024-07-19T16:13:36.059Z"
   },
   {
    "duration": 1108,
    "start_time": "2024-07-19T16:13:36.064Z"
   },
   {
    "duration": 3,
    "start_time": "2024-07-19T16:13:37.174Z"
   },
   {
    "duration": 47,
    "start_time": "2024-07-19T16:13:37.179Z"
   },
   {
    "duration": 24,
    "start_time": "2024-07-19T16:13:37.228Z"
   },
   {
    "duration": 35,
    "start_time": "2024-07-19T16:13:37.254Z"
   },
   {
    "duration": 6,
    "start_time": "2024-07-19T16:13:37.291Z"
   },
   {
    "duration": 51,
    "start_time": "2024-07-19T16:13:37.300Z"
   },
   {
    "duration": 69,
    "start_time": "2024-07-19T16:13:37.353Z"
   },
   {
    "duration": 24,
    "start_time": "2024-07-19T16:13:37.424Z"
   },
   {
    "duration": 33,
    "start_time": "2024-07-19T16:13:37.450Z"
   },
   {
    "duration": 21,
    "start_time": "2024-07-19T16:13:37.485Z"
   },
   {
    "duration": 5,
    "start_time": "2024-07-19T16:13:37.508Z"
   },
   {
    "duration": 70,
    "start_time": "2024-07-19T16:13:37.515Z"
   },
   {
    "duration": 52,
    "start_time": "2024-07-19T16:13:37.587Z"
   },
   {
    "duration": 42,
    "start_time": "2024-07-19T16:13:37.640Z"
   },
   {
    "duration": 13,
    "start_time": "2024-07-19T16:13:37.685Z"
   },
   {
    "duration": 15,
    "start_time": "2024-07-19T16:13:37.700Z"
   },
   {
    "duration": 40,
    "start_time": "2024-07-19T16:13:37.717Z"
   },
   {
    "duration": 5,
    "start_time": "2024-07-19T16:13:37.760Z"
   },
   {
    "duration": 63,
    "start_time": "2024-07-19T16:13:37.767Z"
   },
   {
    "duration": 70,
    "start_time": "2024-07-19T16:13:37.832Z"
   },
   {
    "duration": 34,
    "start_time": "2024-07-19T16:13:37.905Z"
   },
   {
    "duration": 43,
    "start_time": "2024-07-19T16:13:37.941Z"
   },
   {
    "duration": 34,
    "start_time": "2024-07-19T16:13:37.986Z"
   },
   {
    "duration": 6,
    "start_time": "2024-07-19T16:13:38.025Z"
   },
   {
    "duration": 6,
    "start_time": "2024-07-19T16:13:38.033Z"
   },
   {
    "duration": 148,
    "start_time": "2024-07-19T16:13:38.042Z"
   },
   {
    "duration": 291,
    "start_time": "2024-07-19T16:13:38.193Z"
   },
   {
    "duration": 203,
    "start_time": "2024-07-19T16:13:38.487Z"
   },
   {
    "duration": 91,
    "start_time": "2024-07-19T16:13:38.692Z"
   },
   {
    "duration": 29,
    "start_time": "2024-07-19T16:13:38.785Z"
   },
   {
    "duration": 8,
    "start_time": "2024-07-19T16:13:38.817Z"
   },
   {
    "duration": 5,
    "start_time": "2024-07-19T16:13:38.828Z"
   },
   {
    "duration": 720,
    "start_time": "2024-07-19T16:13:38.835Z"
   },
   {
    "duration": 493,
    "start_time": "2024-07-19T16:13:39.556Z"
   },
   {
    "duration": 715,
    "start_time": "2024-07-19T16:13:40.051Z"
   },
   {
    "duration": 597,
    "start_time": "2024-07-19T16:13:40.768Z"
   },
   {
    "duration": 718,
    "start_time": "2024-07-19T16:13:41.367Z"
   },
   {
    "duration": 609,
    "start_time": "2024-07-19T16:13:42.086Z"
   },
   {
    "duration": 4,
    "start_time": "2024-07-19T16:15:51.551Z"
   },
   {
    "duration": 12,
    "start_time": "2024-07-19T16:15:51.558Z"
   },
   {
    "duration": 15,
    "start_time": "2024-07-19T16:15:51.573Z"
   },
   {
    "duration": 515,
    "start_time": "2024-07-19T16:15:51.591Z"
   },
   {
    "duration": 3,
    "start_time": "2024-07-19T16:15:52.108Z"
   },
   {
    "duration": 32,
    "start_time": "2024-07-19T16:15:52.112Z"
   },
   {
    "duration": 18,
    "start_time": "2024-07-19T16:15:52.146Z"
   },
   {
    "duration": 68,
    "start_time": "2024-07-19T16:15:52.165Z"
   },
   {
    "duration": 5,
    "start_time": "2024-07-19T16:15:52.235Z"
   },
   {
    "duration": 98,
    "start_time": "2024-07-19T16:15:52.242Z"
   },
   {
    "duration": 58,
    "start_time": "2024-07-19T16:15:52.342Z"
   },
   {
    "duration": 52,
    "start_time": "2024-07-19T16:15:52.402Z"
   },
   {
    "duration": 23,
    "start_time": "2024-07-19T16:15:52.456Z"
   },
   {
    "duration": 3,
    "start_time": "2024-07-19T16:15:52.483Z"
   },
   {
    "duration": 17,
    "start_time": "2024-07-19T16:15:52.488Z"
   },
   {
    "duration": 50,
    "start_time": "2024-07-19T16:15:52.506Z"
   },
   {
    "duration": 82,
    "start_time": "2024-07-19T16:15:52.558Z"
   },
   {
    "duration": 25,
    "start_time": "2024-07-19T16:15:52.642Z"
   },
   {
    "duration": 25,
    "start_time": "2024-07-19T16:15:52.669Z"
   },
   {
    "duration": 104,
    "start_time": "2024-07-19T16:15:52.695Z"
   },
   {
    "duration": 30,
    "start_time": "2024-07-19T16:15:52.802Z"
   },
   {
    "duration": 7,
    "start_time": "2024-07-19T16:15:52.834Z"
   },
   {
    "duration": 51,
    "start_time": "2024-07-19T16:15:52.843Z"
   },
   {
    "duration": 80,
    "start_time": "2024-07-19T16:15:52.896Z"
   },
   {
    "duration": 42,
    "start_time": "2024-07-19T16:15:52.985Z"
   },
   {
    "duration": 20,
    "start_time": "2024-07-19T16:15:53.029Z"
   },
   {
    "duration": 40,
    "start_time": "2024-07-19T16:15:53.051Z"
   },
   {
    "duration": 53,
    "start_time": "2024-07-19T16:15:53.093Z"
   },
   {
    "duration": 17,
    "start_time": "2024-07-19T16:15:53.148Z"
   },
   {
    "duration": 322,
    "start_time": "2024-07-19T16:15:53.168Z"
   },
   {
    "duration": 301,
    "start_time": "2024-07-19T16:15:53.492Z"
   },
   {
    "duration": 287,
    "start_time": "2024-07-19T16:15:53.796Z"
   },
   {
    "duration": 5,
    "start_time": "2024-07-19T16:15:54.086Z"
   },
   {
    "duration": 11,
    "start_time": "2024-07-19T16:15:54.093Z"
   },
   {
    "duration": 12,
    "start_time": "2024-07-19T16:15:54.106Z"
   },
   {
    "duration": 6,
    "start_time": "2024-07-19T16:15:54.120Z"
   },
   {
    "duration": 983,
    "start_time": "2024-07-19T16:15:54.129Z"
   },
   {
    "duration": 510,
    "start_time": "2024-07-19T16:15:55.114Z"
   },
   {
    "duration": 736,
    "start_time": "2024-07-19T16:15:55.626Z"
   },
   {
    "duration": 636,
    "start_time": "2024-07-19T16:15:56.365Z"
   },
   {
    "duration": 738,
    "start_time": "2024-07-19T16:15:57.006Z"
   },
   {
    "duration": 524,
    "start_time": "2024-07-19T16:15:57.746Z"
   },
   {
    "duration": 82,
    "start_time": "2024-07-19T16:26:33.153Z"
   },
   {
    "duration": 5,
    "start_time": "2024-07-19T16:27:20.193Z"
   },
   {
    "duration": 140,
    "start_time": "2024-07-19T16:27:26.944Z"
   },
   {
    "duration": 13,
    "start_time": "2024-07-19T16:27:39.401Z"
   },
   {
    "duration": 6,
    "start_time": "2024-07-19T16:28:31.977Z"
   },
   {
    "duration": 19,
    "start_time": "2024-07-19T16:28:47.557Z"
   },
   {
    "duration": 680,
    "start_time": "2024-07-19T16:32:54.700Z"
   },
   {
    "duration": 708,
    "start_time": "2024-07-19T16:33:03.830Z"
   },
   {
    "duration": 687,
    "start_time": "2024-07-19T16:34:17.356Z"
   },
   {
    "duration": 741,
    "start_time": "2024-07-19T16:34:22.598Z"
   },
   {
    "duration": 369,
    "start_time": "2024-07-19T16:36:23.503Z"
   },
   {
    "duration": 394,
    "start_time": "2024-07-19T16:36:37.063Z"
   },
   {
    "duration": 374,
    "start_time": "2024-07-19T16:37:27.094Z"
   },
   {
    "duration": 392,
    "start_time": "2024-07-19T16:38:39.378Z"
   },
   {
    "duration": 372,
    "start_time": "2024-07-19T16:39:04.991Z"
   },
   {
    "duration": 739,
    "start_time": "2024-07-19T16:40:47.745Z"
   },
   {
    "duration": 710,
    "start_time": "2024-07-19T16:40:54.480Z"
   },
   {
    "duration": 703,
    "start_time": "2024-07-19T16:41:37.373Z"
   },
   {
    "duration": 691,
    "start_time": "2024-07-19T16:41:44.171Z"
   },
   {
    "duration": 6,
    "start_time": "2024-07-19T16:43:45.545Z"
   },
   {
    "duration": 542,
    "start_time": "2024-07-19T16:44:08.521Z"
   },
   {
    "duration": 6,
    "start_time": "2024-07-19T16:45:38.010Z"
   },
   {
    "duration": 561,
    "start_time": "2024-07-19T16:45:41.186Z"
   },
   {
    "duration": 5,
    "start_time": "2024-07-19T16:46:05.379Z"
   },
   {
    "duration": 405,
    "start_time": "2024-07-19T16:46:06.931Z"
   },
   {
    "duration": 436,
    "start_time": "2024-07-19T16:46:30.157Z"
   },
   {
    "duration": 5,
    "start_time": "2024-07-19T16:46:54.075Z"
   },
   {
    "duration": 384,
    "start_time": "2024-07-19T16:46:57.499Z"
   },
   {
    "duration": 730,
    "start_time": "2024-07-19T16:47:10.694Z"
   },
   {
    "duration": 738,
    "start_time": "2024-07-19T16:47:42.909Z"
   },
   {
    "duration": 747,
    "start_time": "2024-07-19T16:48:38.694Z"
   },
   {
    "duration": 685,
    "start_time": "2024-07-19T16:48:50.750Z"
   },
   {
    "duration": 739,
    "start_time": "2024-07-19T16:48:53.620Z"
   },
   {
    "duration": 730,
    "start_time": "2024-07-19T16:49:16.487Z"
   },
   {
    "duration": 683,
    "start_time": "2024-07-19T16:49:17.772Z"
   },
   {
    "duration": 749,
    "start_time": "2024-07-19T16:49:19.347Z"
   },
   {
    "duration": 814,
    "start_time": "2024-07-19T16:49:23.685Z"
   },
   {
    "duration": 766,
    "start_time": "2024-07-19T16:49:25.284Z"
   },
   {
    "duration": 5,
    "start_time": "2024-07-19T16:49:39.559Z"
   },
   {
    "duration": 5,
    "start_time": "2024-07-19T16:51:38.736Z"
   },
   {
    "duration": 885,
    "start_time": "2024-07-19T16:51:48.449Z"
   },
   {
    "duration": 872,
    "start_time": "2024-07-19T16:51:51.289Z"
   },
   {
    "duration": 6,
    "start_time": "2024-07-19T16:52:04.768Z"
   },
   {
    "duration": 702,
    "start_time": "2024-07-19T16:52:10.986Z"
   },
   {
    "duration": 691,
    "start_time": "2024-07-19T16:52:12.673Z"
   },
   {
    "duration": 675,
    "start_time": "2024-07-19T16:52:14.202Z"
   },
   {
    "duration": 697,
    "start_time": "2024-07-19T16:52:16.281Z"
   },
   {
    "duration": 686,
    "start_time": "2024-07-19T16:54:09.038Z"
   },
   {
    "duration": 677,
    "start_time": "2024-07-19T16:54:10.637Z"
   },
   {
    "duration": 715,
    "start_time": "2024-07-19T16:54:12.076Z"
   },
   {
    "duration": 762,
    "start_time": "2024-07-19T16:54:13.516Z"
   },
   {
    "duration": 732,
    "start_time": "2024-07-19T16:54:21.072Z"
   },
   {
    "duration": 712,
    "start_time": "2024-07-19T16:54:22.965Z"
   },
   {
    "duration": 717,
    "start_time": "2024-07-19T16:54:25.999Z"
   },
   {
    "duration": 755,
    "start_time": "2024-07-19T16:54:27.614Z"
   },
   {
    "duration": 4,
    "start_time": "2024-07-19T16:55:14.416Z"
   },
   {
    "duration": 674,
    "start_time": "2024-07-19T16:55:26.041Z"
   },
   {
    "duration": 678,
    "start_time": "2024-07-19T16:55:27.976Z"
   },
   {
    "duration": 701,
    "start_time": "2024-07-19T16:55:29.351Z"
   },
   {
    "duration": 716,
    "start_time": "2024-07-19T16:55:30.607Z"
   },
   {
    "duration": 691,
    "start_time": "2024-07-19T16:55:32.686Z"
   },
   {
    "duration": 698,
    "start_time": "2024-07-19T16:55:34.222Z"
   },
   {
    "duration": 5,
    "start_time": "2024-07-19T16:56:51.974Z"
   },
   {
    "duration": 13,
    "start_time": "2024-07-19T16:56:58.305Z"
   },
   {
    "duration": 948,
    "start_time": "2024-07-19T16:57:03.345Z"
   },
   {
    "duration": 880,
    "start_time": "2024-07-19T16:57:05.004Z"
   },
   {
    "duration": 5,
    "start_time": "2024-07-19T16:57:19.073Z"
   },
   {
    "duration": 751,
    "start_time": "2024-07-19T16:57:23.330Z"
   },
   {
    "duration": 705,
    "start_time": "2024-07-19T16:57:37.034Z"
   },
   {
    "duration": 712,
    "start_time": "2024-07-19T16:57:44.049Z"
   }
  ],
  "kernelspec": {
   "display_name": "Python 3",
   "language": "python",
   "name": "python3"
  },
  "language_info": {
   "codemirror_mode": {
    "name": "ipython",
    "version": 3
   },
   "file_extension": ".py",
   "mimetype": "text/x-python",
   "name": "python",
   "nbconvert_exporter": "python",
   "pygments_lexer": "ipython3",
   "version": "3.12.0"
  },
  "toc": {
   "base_numbering": 1,
   "nav_menu": {},
   "number_sections": true,
   "sideBar": true,
   "skip_h1_title": true,
   "title_cell": "Table of Contents",
   "title_sidebar": "Contents",
   "toc_cell": false,
   "toc_position": {},
   "toc_section_display": true,
   "toc_window_display": false
  }
 },
 "nbformat": 4,
 "nbformat_minor": 2
}
